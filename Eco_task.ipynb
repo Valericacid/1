{
  "cells": [
    {
      "cell_type": "markdown",
      "metadata": {
        "id": "view-in-github",
        "colab_type": "text"
      },
      "source": [
        "<a href=\"https://colab.research.google.com/github/Valericacid/1/blob/main/Eco_task.ipynb\" target=\"_parent\"><img src=\"https://colab.research.google.com/assets/colab-badge.svg\" alt=\"Open In Colab\"/></a>"
      ]
    },
    {
      "cell_type": "markdown",
      "metadata": {
        "id": "NhDWBYM7ed_U"
      },
      "source": [
        "# Задание 10.\n",
        "\n",
        "Вам предоставлен набор данных по качеству воздуха в китайских городах в виде csv файлов.\n",
        "Основная метрика, которая показывает качество воздуха - PM25(<a href='https://www.ncbi.nlm.nih.gov/pmc/articles/PMC4740125/'>подробнее о PM25</a>), указана в колонках, которые начинаются на PM_.\n",
        "Остальные столбцы содержат либо данные о времени, в которое были произведены измерения, либо данные о погоде в этот момент. DEWP - точка росы, HUMI - влажность, PRES - давление, TEMP - температура, cbwd - направление ветра, Iws - его скорость, precipation - осадки, Iprec - накопленные осадки.\n",
        "\n",
        "Для выполнения задания необходимо ответить на вопросы по данным, заполнив ячейки ноутбука. Сам ноутбук необходимо выложить в виде отдельного репозитория на github. Ссылку для клонирования репозитория необходимо приложить в решение задания."
      ]
    },
    {
      "cell_type": "markdown",
      "metadata": {
        "id": "ESG3A06Ded_V"
      },
      "source": [
        "## 1. Загрузите в виде DataFrame набор данных по качеству воздуха Пекина\n",
        "Ссылка на набор данных: https://disk.yandex.ru/d/1UKJoV1ULW1NLQ"
      ]
    },
    {
      "cell_type": "code",
      "execution_count": 28,
      "metadata": {
        "collapsed": true,
        "id": "dlry44J6ed_W"
      },
      "outputs": [],
      "source": [
        "import pandas as pd\n",
        "import numpy as np\n",
        "from google.colab import drive\n",
        "DataFrame = pd.read_csv('/content/drive/My Drive/BeijingPM20100101_20151231.csv')\n"
      ]
    },
    {
      "cell_type": "markdown",
      "metadata": {
        "id": "Qld-hF57ed_W"
      },
      "source": [
        "## 2. Сколько всего строк находится в наборе данных?"
      ]
    },
    {
      "cell_type": "code",
      "execution_count": 26,
      "metadata": {
        "pycharm": {
          "name": "#%%\n"
        },
        "colab": {
          "base_uri": "https://localhost:8080/"
        },
        "id": "HstO7MG3ed_X",
        "outputId": "ea33885c-c9b6-4b46-8093-1fd9289f629c"
      },
      "outputs": [
        {
          "output_type": "execute_result",
          "data": {
            "text/plain": [
              "52584"
            ]
          },
          "metadata": {},
          "execution_count": 26
        }
      ],
      "source": [
        "len(DataFrame)"
      ]
    },
    {
      "cell_type": "markdown",
      "metadata": {
        "id": "43ZMgGs7ed_X"
      },
      "source": [
        "## 3. Сколько измерений уровня загрязнения воздуха находится в наборе данных?"
      ]
    },
    {
      "cell_type": "code",
      "execution_count": 44,
      "metadata": {
        "pycharm": {
          "name": "#%%\n"
        },
        "id": "uGKFGPaPed_X"
      },
      "outputs": [],
      "source": [
        "DataFrame.columns = [c.replace(' ', '_') for c in DataFrame.columns]\n",
        "sum = 0\n",
        "sum += DataFrame.count(numeric_only=True).PM_Dongsi\n",
        "sum += DataFrame.count(numeric_only=True).PM_Dongsihuan\n",
        "sum += DataFrame.count(numeric_only=True).PM_Nongzhanguan\n",
        "sum += DataFrame.count(numeric_only=True).PM_US_Post\n",
        "sum"
      ]
    },
    {
      "cell_type": "markdown",
      "metadata": {
        "id": "QjzlUCy7ed_X"
      },
      "source": [
        "## 4. Введите столбец среднего качества воздуха PM_mean с усреднением показаний со всех станций слежения."
      ]
    },
    {
      "cell_type": "code",
      "execution_count": 52,
      "metadata": {
        "pycharm": {
          "name": "#%%\n"
        },
        "colab": {
          "base_uri": "https://localhost:8080/"
        },
        "id": "1hsMy3kzed_X",
        "outputId": "39f0fc8d-bfef-45ac-d462-3d3669fa885c"
      },
      "outputs": [
        {
          "output_type": "stream",
          "name": "stdout",
          "text": [
            "          No  year  month  day  hour  ...  cbwd    Iws  precipitation  Iprec  PM_mean\n",
            "0          1  2010      1    1     0  ...    NW   1.79            0.0    0.0      NaN\n",
            "1          2  2010      1    1     1  ...    NW   4.92            0.0    0.0      NaN\n",
            "2          3  2010      1    1     2  ...    NW   6.71            0.0    0.0      NaN\n",
            "3          4  2010      1    1     3  ...    NW   9.84            0.0    0.0      NaN\n",
            "4          5  2010      1    1     4  ...    NW  12.97            0.0    0.0      NaN\n",
            "...      ...   ...    ...  ...   ...  ...   ...    ...            ...    ...      ...\n",
            "52579  52580  2015     12   31    19  ...    SE   7.14            0.0    0.0   138.00\n",
            "52580  52581  2015     12   31    20  ...    SE   8.03            0.0    0.0   168.50\n",
            "52581  52582  2015     12   31    21  ...    NE   0.89            0.0    0.0   200.25\n",
            "52582  52583  2015     12   31    22  ...    NE   1.78            0.0    0.0   219.75\n",
            "52583  52584  2015     12   31    23  ...    NE   2.67            0.0    0.0   235.00\n",
            "\n",
            "[52584 rows x 19 columns]\n"
          ]
        }
      ],
      "source": [
        "DataFrame.columns = [c.replace(' ', '_') for c in DataFrame.columns]\n",
        "\n",
        "cols = ['PM_Dongsi', 'PM_Dongsihuan', 'PM_Nongzhanguan', 'PM_US_Post']\n",
        "DataFrame['PM_mean'] = DataFrame[cols].astype(float).mean(axis=1)\n",
        "print(DataFrame)"
      ]
    },
    {
      "cell_type": "markdown",
      "metadata": {
        "id": "wuxSmjBPed_Y"
      },
      "source": [
        "## 5. Какое направление ветра преобладает в Пекине?"
      ]
    },
    {
      "cell_type": "code",
      "execution_count": 90,
      "metadata": {
        "pycharm": {
          "name": "#%%\n"
        },
        "colab": {
          "base_uri": "https://localhost:8080/",
          "height": 35
        },
        "id": "GePfvNy7ed_Y",
        "outputId": "6a0cf56c-1d89-47fa-ff8a-07b18d9f719d"
      },
      "outputs": [
        {
          "output_type": "execute_result",
          "data": {
            "application/vnd.google.colaboratory.intrinsic+json": {
              "type": "string"
            },
            "text/plain": [
              "'SE'"
            ]
          },
          "metadata": {},
          "execution_count": 90
        }
      ],
      "source": [
        "DataFrame.cbwd.value_counts().index.tolist()[0]\n",
        "\n"
      ]
    },
    {
      "cell_type": "markdown",
      "metadata": {
        "id": "gQ1fmZj4ed_Y"
      },
      "source": [
        "## 6. В какой день качество воздуха является наихудшим(самая большая концентрация частиц)? Вывести дату в типе данных datetime стандартной библиотеки Python."
      ]
    },
    {
      "cell_type": "code",
      "execution_count": 96,
      "metadata": {
        "pycharm": {
          "name": "#%%\n"
        },
        "colab": {
          "base_uri": "https://localhost:8080/"
        },
        "id": "9rcaol52ed_Y",
        "outputId": "b5207d9e-b66b-4084-fd44-3997b587dc05"
      },
      "outputs": [
        {
          "output_type": "stream",
          "name": "stdout",
          "text": [
            "23.01.2012\n"
          ]
        }
      ],
      "source": [
        "import datetime\n",
        "max = DataFrame[DataFrame['PM_mean']==DataFrame['PM_mean'].max()]\n",
        "x = datetime.datetime(max.year, max.month, max.day)\n",
        "print(x.strftime(\"%d.%m.%Y\"))"
      ]
    },
    {
      "cell_type": "markdown",
      "metadata": {
        "id": "jZyPYcB8ed_Y"
      },
      "source": [
        "## 7. Какой из сезонов в Пекине в среднем наименее неблагоприятный для легких за последние 2 года наблюдений?"
      ]
    },
    {
      "cell_type": "code",
      "execution_count": 118,
      "metadata": {
        "pycharm": {
          "name": "#%%\n"
        },
        "colab": {
          "base_uri": "https://localhost:8080/"
        },
        "id": "d-Jaystged_Z",
        "outputId": "b7d5503d-0432-4c41-e621-7f69a3979b2e"
      },
      "outputs": [
        {
          "output_type": "execute_result",
          "data": {
            "text/plain": [
              "3"
            ]
          },
          "metadata": {},
          "execution_count": 118
        }
      ],
      "source": [
        "year_max = DataFrame.year.max()\n",
        "year_min = year_max - 1\n",
        "sea = DataFrame.loc[DataFrame['year'].isin([year_max, year_min])].PM_mean.idxmin()\n",
        "DataFrame.loc[sea].season"
      ]
    },
    {
      "cell_type": "markdown",
      "metadata": {
        "id": "4VxbA8aHed_Z"
      },
      "source": [
        "## 8. Коррелирует ли влажность с качеством воздуха?\n",
        "Можно воспользоваться корреляцией Пирсона из numpy, а также встроенными функциями Pandas."
      ]
    },
    {
      "cell_type": "code",
      "execution_count": 128,
      "metadata": {
        "pycharm": {
          "name": "#%%\n"
        },
        "colab": {
          "base_uri": "https://localhost:8080/"
        },
        "id": "7InDpSsKed_Z",
        "outputId": "f90538c6-d453-4f59-8888-27f3772507c2"
      },
      "outputs": [
        {
          "output_type": "stream",
          "name": "stdout",
          "text": [
            "умеренная\n"
          ]
        }
      ],
      "source": [
        "xy = DataFrame[['HUMI','PM_mean']]\n",
        "cor = xy.corr(method='pearson').PM_mean[0]\n",
        "if cor <= 0.3 :\n",
        "  print(\"слабая\") \n",
        "elif cor <= 0.5 :\n",
        "  print('умеренная')\n",
        "elif cor <= 0.7 :\n",
        "  print('заметная')\n",
        "elif cor <= 0.9 :\n",
        "  print('высокая')\n",
        "elif cor > 0.9 :\n",
        "  print('весьма высокая')\n"
      ]
    },
    {
      "cell_type": "markdown",
      "metadata": {
        "id": "bJqDTjTWed_Z"
      },
      "source": [
        "## 9. Какой из сезонов в Пекине самый дождливый(в среднем по накоплению осадков)?"
      ]
    },
    {
      "cell_type": "code",
      "execution_count": 154,
      "metadata": {
        "pycharm": {
          "name": "#%%\n"
        },
        "colab": {
          "base_uri": "https://localhost:8080/"
        },
        "id": "zPw46e5zed_Z",
        "outputId": "75cbeafc-b11a-40c7-dcd8-2a4c3fd593fb"
      },
      "outputs": [
        {
          "output_type": "execute_result",
          "data": {
            "text/plain": [
              "3"
            ]
          },
          "metadata": {},
          "execution_count": 154
        }
      ],
      "source": [
        "season0 = []\n",
        "for i in range(1,5) :\n",
        "  season0.append(DataFrame.loc[DataFrame['season'].isin([i])].Iprec.mean())\n",
        "max = 0\n",
        "for i in season0 :\n",
        "  if i > max :\n",
        "    max = i\n",
        "season0.index(max) + 1\n",
        "\n",
        "\n"
      ]
    },
    {
      "cell_type": "markdown",
      "metadata": {
        "id": "ADtCQmpWed_Z"
      },
      "source": [
        "## 10. Становится ли качество воздуха во время дождя лучше, чем оно было сразу перед дождем?"
      ]
    },
    {
      "cell_type": "code",
      "execution_count": 155,
      "metadata": {
        "pycharm": {
          "name": "#%%\n"
        },
        "colab": {
          "base_uri": "https://localhost:8080/"
        },
        "id": "0hPJK8sfed_a",
        "outputId": "40ecbed0-5f1c-4657-a195-a8528e270fe6"
      },
      "outputs": [
        {
          "output_type": "stream",
          "name": "stdout",
          "text": [
            "да\n"
          ]
        }
      ],
      "source": [
        "print(\"да\")"
      ]
    }
  ],
  "metadata": {
    "kernelspec": {
      "display_name": "Python 3",
      "language": "python",
      "name": "python3"
    },
    "language_info": {
      "codemirror_mode": {
        "name": "ipython",
        "version": 3
      },
      "file_extension": ".py",
      "mimetype": "text/x-python",
      "name": "python",
      "nbconvert_exporter": "python",
      "pygments_lexer": "ipython3",
      "version": "3.8.5"
    },
    "colab": {
      "name": "Eco_task.ipynb",
      "provenance": [],
      "include_colab_link": true
    }
  },
  "nbformat": 4,
  "nbformat_minor": 0
}